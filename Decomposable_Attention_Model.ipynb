{
  "cells": [
    {
      "cell_type": "markdown",
      "metadata": {
        "id": "kgaaydXoGrEK"
      },
      "source": [
        "# Libraries"
      ]
    },
    {
      "cell_type": "code",
      "execution_count": null,
      "metadata": {
        "colab": {
          "base_uri": "https://localhost:8080/"
        },
        "id": "B2tvMYSEF5a4",
        "outputId": "e53e353b-58fc-41d5-c13a-c11d3f27d153"
      },
      "outputs": [
        {
          "output_type": "stream",
          "name": "stderr",
          "text": [
            "/usr/local/lib/python3.7/dist-packages/ipykernel_launcher.py:2: FutureWarning: Passing a negative integer is deprecated in version 1.0 and will not be supported in future version. Instead, use None to not limit the column width.\n",
            "  \n"
          ]
        }
      ],
      "source": [
        "import pandas as pd\n",
        "pd.set_option('display.max_colwidth', -1)\n",
        "import re \n",
        "import os\n",
        "import keras\n",
        "import numpy as np\n",
        "import pickle\n",
        "import tensorflow as tf\n",
        "import keras.backend as K\n",
        "from keras.preprocessing.text import Tokenizer\n",
        "from keras.preprocessing.sequence import pad_sequences\n",
        "from keras.models import Model\n",
        "from keras.layers import  Lambda, Input, Dense, GlobalAveragePooling1D, GlobalMaxPooling1D,Reshape, \\\n",
        "Activation, SimpleRNN,GRU, Bidirectional, LSTM, dot, concatenate, Dropout,Conv2D, MaxPooling2D, Flatten\n",
        "from keras.layers.embeddings import Embedding\n",
        "from tensorflow.keras.optimizers import Adam, SGD\n",
        "from keras.callbacks import EarlyStopping, ModelCheckpoint, ReduceLROnPlateau\n",
        "from keras.losses import sparse_categorical_crossentropy\n",
        "from tensorflow.keras.utils import plot_model\n",
        "from sklearn.preprocessing import LabelEncoder\n",
        "from keras.models import Sequential\n"
      ]
    },
    {
      "cell_type": "markdown",
      "metadata": {
        "id": "NoPa-HD5KDXx"
      },
      "source": [
        "# Load processed data"
      ]
    },
    {
      "cell_type": "code",
      "execution_count": null,
      "metadata": {
        "id": "kyPeTe9bTMH7"
      },
      "outputs": [],
      "source": [
        "with open('/content/drive/MyDrive/Snli_project/tokenization_data.pickle', 'rb') as f:\n",
        "    loaded_data = pickle.load(f)  \n",
        "\n",
        "tokenizer = Tokenizer(char_level=False)\n",
        "tokenizer.fit_on_texts(loaded_data)\n",
        "max_length = 25\n",
        "vocab_size = len(tokenizer.word_index)"
      ]
    },
    {
      "cell_type": "code",
      "execution_count": null,
      "metadata": {
        "id": "AUg6VKMJI42R"
      },
      "outputs": [],
      "source": [
        "with open('/content/drive/MyDrive/Snli_project/train_data.pickle', 'rb') as f:\n",
        "      preproc_premise, preproc_hypothesis, Y_train = pickle.load(f)\n",
        "\n",
        "with open('/content/drive/MyDrive/Snli_project/test_data.pickle', 'rb') as f:\n",
        "      preproc_premise_T, preproc_hypothesis_T, Y_test = pickle.load(f)         "
      ]
    },
    {
      "cell_type": "markdown",
      "metadata": {
        "id": "6M0eV7EWXgj2"
      },
      "source": [
        "# Glove"
      ]
    },
    {
      "cell_type": "code",
      "execution_count": null,
      "metadata": {
        "colab": {
          "base_uri": "https://localhost:8080/"
        },
        "id": "38nVzAAiU0Nn",
        "outputId": "8724f404-5679-4f29-d8e3-922354614411"
      },
      "outputs": [
        {
          "output_type": "stream",
          "name": "stdout",
          "text": [
            "Found 400000 word vectors.\n"
          ]
        }
      ],
      "source": [
        "EMBEDDING_DIM = 300\n",
        "GLOVE_DIR = '/content/drive/MyDrive/Snli_project/Glove'\n",
        "embeddings_index = {}\n",
        "f = open(os.path.join(GLOVE_DIR, 'glove.6B.300d.txt'))\n",
        "for line in f:\n",
        "    values = line.split()\n",
        "    word = values[0]\n",
        "    coefs = np.asarray(values[1:], dtype='float32')\n",
        "    embeddings_index[word] = coefs\n",
        "f.close()\n",
        "print('Found %s word vectors.' % len(embeddings_index))\n",
        "\n",
        "  "
      ]
    },
    {
      "cell_type": "code",
      "execution_count": null,
      "metadata": {
        "id": "mr2S-js7jBvu"
      },
      "outputs": [],
      "source": [
        "oov=0\n",
        "embedding_matrix = np.zeros((len(tokenizer.word_index) + 1, EMBEDDING_DIM))\n",
        "for word, i in tokenizer.word_index.items():\n",
        "    embedding_vector = embeddings_index.get(word)\n",
        "    if embedding_vector is not None:\n",
        "        # words not found in embedding index will be all-zeros.\n",
        "        embedding_matrix[i] = embedding_vector\n",
        "    else:\n",
        "        std = 1.0\n",
        "        mean = 0.0\n",
        "        embedding_matrix[i] = std * np.random.randn(300) + mean\n",
        "        oov +=1\n",
        "print(oov)        "
      ]
    },
    {
      "cell_type": "markdown",
      "metadata": {
        "id": "mUv8mdIxf80R"
      },
      "source": [
        "# Equations"
      ]
    },
    {
      "cell_type": "code",
      "execution_count": null,
      "metadata": {
        "id": "1rKxXiaBDU__"
      },
      "outputs": [],
      "source": [
        "# a = np.arange(0.0, 30.0, 1.0).reshape(2, 3, 5)\n",
        "# b = np.arange(20.0, 50.0, 1.0).reshape(2, 3, 5)\n",
        "# aTb = keras.layers.Dot(axes=(2, 2))([a, b])\n",
        "# aTb_T = tf.linalg.matrix_transpose(aTb)\n",
        "# segma_col = K.sum(aTb , axis=1)\n",
        "# segma_col = Reshape(( 3,-1), input_shape=segma_row.shape)(segma_col)\n",
        "\n",
        "# alpha_summation = tf.divide(aTb_T, segma_col)\n",
        "# alpha = keras.layers.Dot(axes=(2, 1))([alpha_summation, a])"
      ]
    },
    {
      "cell_type": "code",
      "execution_count": null,
      "metadata": {
        "id": "6Z6maUcl5hL9"
      },
      "outputs": [],
      "source": [
        "# a = np.arange(0.0, 30.0, 1.0).reshape(2, 3, 5)\n",
        "# b = np.arange(20.0, 50.0, 1.0).reshape(2, 3, 5)\n",
        "# aTb = keras.layers.Dot(axes=(2, 2))([a, b])\n",
        "\n",
        "# segma_row = K.sum(aTb , axis=2)\n",
        "# segma_row = Reshape(( 3,-1), input_shape=segma_row.shape)(segma_row)\n",
        "# beta_summation = tf.divide(aTb, segma_row)\n",
        "# beta = keras.layers.Dot(axes=(2, 1))([beta_summation, b])"
      ]
    },
    {
      "cell_type": "markdown",
      "metadata": {
        "id": "3jItNAU4cyRS"
      },
      "source": [
        "# Model"
      ]
    },
    {
      "cell_type": "code",
      "execution_count": null,
      "metadata": {
        "id": "lWKuh9qSdPcd"
      },
      "outputs": [],
      "source": [
        "import keras\n",
        "EMBEDDING_DIM = 300\n",
        "def get_model():\n",
        "  \n",
        "    inp1 = Input((max_length,))\n",
        "    inp2 = Input((max_length,))\n",
        "    \n",
        "    a = Embedding(vocab_size+1, EMBEDDING_DIM, weights=[embedding_matrix],\n",
        "                                  input_length=max_length, trainable=False, mask_zero=True)(inp1)\n",
        "    b = Embedding(vocab_size+1, EMBEDDING_DIM, weights=[embedding_matrix],\n",
        "                                  input_length=max_length, trainable=False, mask_zero=True)(inp2)\n",
        "\n",
        "    a = tf.math.l2_normalize(x=a, axis = 2)\n",
        "    b = tf.math.l2_normalize(x=b, axis = 2)\n",
        "    a = Dense(200)(a)\n",
        "    a = Dropout(0.2)(a)\n",
        "    b = Dense(200)(b) \n",
        "    b = Dropout(0.2)(b)                                  \n",
        "    #************************************** Attend ***********************************\n",
        "    aTb = keras.layers.Dot(axes=(2, 2))([a, b])\n",
        "    exp_aTb = tf.math.exp(aTb)\n",
        "    exp_aTb_T = tf.linalg.matrix_transpose(aTb)\n",
        "\n",
        "    segma_row = K.sum(exp_aTb, axis=2)\n",
        "    segma_row = Reshape(( max_length,-1), input_shape=segma_row.shape)(segma_row)\n",
        "    beta_summation = tf.divide(exp_aTb, segma_row)\n",
        "    beta = keras.layers.Dot(axes=(2, 1), name='beta')([beta_summation, b])\n",
        "\n",
        "    segma_col = K.sum(exp_aTb, axis=1)\n",
        "    segma_col = Reshape(( max_length,-1), input_shape = segma_col.shape)(segma_col)\n",
        "    alpha_summation = tf.divide(exp_aTb_T, segma_col)\n",
        "    alpha = keras.layers.Dot(axes=(2, 1), name='alpha')([alpha_summation, a])\n",
        "      \n",
        "    # ****************************** compare *******************************************\n",
        "    v1_i = concatenate([a, beta])\n",
        "    v2_j = concatenate([b, alpha])\n",
        "    \n",
        "    G1 = Dense(256, activation=\"relu\")(v1_i) \n",
        "    G1 = Dropout(0.2)(G1)\n",
        "    G1 = Dense(256, activation=\"relu\")(G1) \n",
        "    G1 = Dropout(0.2)(G1)\n",
        "    G1 = Dense(256, activation=\"relu\", name='G1')(G1) \n",
        "    G1 = Dropout(0.2)(G1)\n",
        "    \n",
        "    G2 = Dense(256, activation=\"relu\")(v2_j)\n",
        "    G2 = Dropout(0.2)(G2)\n",
        "    G2 = Dense(256, activation=\"relu\")(G2)\n",
        "    G2 = Dropout(0.2)(G2)\n",
        "    G2 = Dense(256, activation=\"relu\", name='G2')(G2)\n",
        "    G2 = Dropout(0.2)(G2)\n",
        "    #******************************** Aggregate *****************************************                       \n",
        "    v1 = Lambda(lambda x: K.sum(x , axis=1))(G1)\n",
        "    v2 = Lambda(lambda x: K.sum(x , axis=1))(G2)\n",
        "\n",
        "    v = concatenate([v1, v2])\n",
        "    H = Dense(128, activation=\"relu\")(v)\n",
        "    H = Dropout(0.2)(H)\n",
        "    H = Dense(128, activation=\"relu\")(H)\n",
        "    H = Dropout(0.2)(H)\n",
        "    H = Dense(64, activation=\"relu\")(H)\n",
        "    \n",
        "    outp = Dense(3, activation=\"softmax\", name=\"final_output\")(H)\n",
        "    \n",
        "    model = Model(inputs=[inp1,inp2], outputs=outp)\n",
        "    model.compile(loss='categorical_crossentropy',\n",
        "                  optimizer = tf.keras.optimizers.Adagrad(learning_rate=0.05,\n",
        "                                              initial_accumulator_value=0.1,\n",
        "                                              epsilon=1e-07), metrics=['accuracy'])\n",
        "\n",
        "    return model"
      ]
    },
    {
      "cell_type": "code",
      "execution_count": null,
      "metadata": {
        "colab": {
          "base_uri": "https://localhost:8080/"
        },
        "id": "0uwgFizbdun2",
        "outputId": "0a36fcbf-dd62-4738-f8ba-1796fbc1da6a"
      },
      "outputs": [
        {
          "name": "stdout",
          "output_type": "stream",
          "text": [
            "Model: \"model\"\n",
            "__________________________________________________________________________________________________\n",
            " Layer (type)                   Output Shape         Param #     Connected to                     \n",
            "==================================================================================================\n",
            " input_1 (InputLayer)           [(None, 25)]         0           []                               \n",
            "                                                                                                  \n",
            " input_2 (InputLayer)           [(None, 25)]         0           []                               \n",
            "                                                                                                  \n",
            " embedding (Embedding)          (None, 25, 300)      10083000    ['input_1[0][0]']                \n",
            "                                                                                                  \n",
            " embedding_1 (Embedding)        (None, 25, 300)      10083000    ['input_2[0][0]']                \n",
            "                                                                                                  \n",
            " tf.math.l2_normalize (TFOpLamb  (None, 25, 300)     0           ['embedding[0][0]']              \n",
            " da)                                                                                              \n",
            "                                                                                                  \n",
            " tf.math.l2_normalize_1 (TFOpLa  (None, 25, 300)     0           ['embedding_1[0][0]']            \n",
            " mbda)                                                                                            \n",
            "                                                                                                  \n",
            " dense (Dense)                  (None, 25, 200)      60200       ['tf.math.l2_normalize[0][0]']   \n",
            "                                                                                                  \n",
            " dense_1 (Dense)                (None, 25, 200)      60200       ['tf.math.l2_normalize_1[0][0]'] \n",
            "                                                                                                  \n",
            " dropout (Dropout)              (None, 25, 200)      0           ['dense[0][0]']                  \n",
            "                                                                                                  \n",
            " dropout_1 (Dropout)            (None, 25, 200)      0           ['dense_1[0][0]']                \n",
            "                                                                                                  \n",
            " dot (Dot)                      (None, 25, 25)       0           ['dropout[0][0]',                \n",
            "                                                                  'dropout_1[0][0]']              \n",
            "                                                                                                  \n",
            " tf.math.exp (TFOpLambda)       (None, 25, 25)       0           ['dot[0][0]']                    \n",
            "                                                                                                  \n",
            " tf.math.reduce_sum (TFOpLambda  (None, 25)          0           ['tf.math.exp[0][0]']            \n",
            " )                                                                                                \n",
            "                                                                                                  \n",
            " tf.math.reduce_sum_1 (TFOpLamb  (None, 25)          0           ['tf.math.exp[0][0]']            \n",
            " da)                                                                                              \n",
            "                                                                                                  \n",
            " reshape (Reshape)              (None, 25, 1)        0           ['tf.math.reduce_sum[0][0]']     \n",
            "                                                                                                  \n",
            " tf.linalg.matrix_transpose (TF  (None, 25, 25)      0           ['dot[0][0]']                    \n",
            " OpLambda)                                                                                        \n",
            "                                                                                                  \n",
            " reshape_1 (Reshape)            (None, 25, 1)        0           ['tf.math.reduce_sum_1[0][0]']   \n",
            "                                                                                                  \n",
            " tf.math.truediv (TFOpLambda)   (None, 25, 25)       0           ['tf.math.exp[0][0]',            \n",
            "                                                                  'reshape[0][0]']                \n",
            "                                                                                                  \n",
            " tf.math.truediv_1 (TFOpLambda)  (None, 25, 25)      0           ['tf.linalg.matrix_transpose[0][0\n",
            "                                                                 ]',                              \n",
            "                                                                  'reshape_1[0][0]']              \n",
            "                                                                                                  \n",
            " beta (Dot)                     (None, 25, 200)      0           ['tf.math.truediv[0][0]',        \n",
            "                                                                  'dropout_1[0][0]']              \n",
            "                                                                                                  \n",
            " alpha (Dot)                    (None, 25, 200)      0           ['tf.math.truediv_1[0][0]',      \n",
            "                                                                  'dropout[0][0]']                \n",
            "                                                                                                  \n",
            " concatenate (Concatenate)      (None, 25, 400)      0           ['dropout[0][0]',                \n",
            "                                                                  'beta[0][0]']                   \n",
            "                                                                                                  \n",
            " concatenate_1 (Concatenate)    (None, 25, 400)      0           ['dropout_1[0][0]',              \n",
            "                                                                  'alpha[0][0]']                  \n",
            "                                                                                                  \n",
            " dense_2 (Dense)                (None, 25, 256)      102656      ['concatenate[0][0]']            \n",
            "                                                                                                  \n",
            " dense_4 (Dense)                (None, 25, 256)      102656      ['concatenate_1[0][0]']          \n",
            "                                                                                                  \n",
            " dropout_2 (Dropout)            (None, 25, 256)      0           ['dense_2[0][0]']                \n",
            "                                                                                                  \n",
            " dropout_5 (Dropout)            (None, 25, 256)      0           ['dense_4[0][0]']                \n",
            "                                                                                                  \n",
            " dense_3 (Dense)                (None, 25, 256)      65792       ['dropout_2[0][0]']              \n",
            "                                                                                                  \n",
            " dense_5 (Dense)                (None, 25, 256)      65792       ['dropout_5[0][0]']              \n",
            "                                                                                                  \n",
            " dropout_3 (Dropout)            (None, 25, 256)      0           ['dense_3[0][0]']                \n",
            "                                                                                                  \n",
            " dropout_6 (Dropout)            (None, 25, 256)      0           ['dense_5[0][0]']                \n",
            "                                                                                                  \n",
            " G1 (Dense)                     (None, 25, 256)      65792       ['dropout_3[0][0]']              \n",
            "                                                                                                  \n",
            " G2 (Dense)                     (None, 25, 256)      65792       ['dropout_6[0][0]']              \n",
            "                                                                                                  \n",
            " dropout_4 (Dropout)            (None, 25, 256)      0           ['G1[0][0]']                     \n"
          ]
        },
        {
          "name": "stdout",
          "output_type": "stream",
          "text": [
            "                                                                                                  \n",
            " dropout_7 (Dropout)            (None, 25, 256)      0           ['G2[0][0]']                     \n",
            "                                                                                                  \n",
            " lambda (Lambda)                (None, 256)          0           ['dropout_4[0][0]']              \n",
            "                                                                                                  \n",
            " lambda_1 (Lambda)              (None, 256)          0           ['dropout_7[0][0]']              \n",
            "                                                                                                  \n",
            " concatenate_2 (Concatenate)    (None, 512)          0           ['lambda[0][0]',                 \n",
            "                                                                  'lambda_1[0][0]']               \n",
            "                                                                                                  \n",
            " dense_6 (Dense)                (None, 128)          65664       ['concatenate_2[0][0]']          \n",
            "                                                                                                  \n",
            " dropout_8 (Dropout)            (None, 128)          0           ['dense_6[0][0]']                \n",
            "                                                                                                  \n",
            " dense_7 (Dense)                (None, 128)          16512       ['dropout_8[0][0]']              \n",
            "                                                                                                  \n",
            " dropout_9 (Dropout)            (None, 128)          0           ['dense_7[0][0]']                \n",
            "                                                                                                  \n",
            " dense_8 (Dense)                (None, 64)           8256        ['dropout_9[0][0]']              \n",
            "                                                                                                  \n",
            " final_output (Dense)           (None, 3)            195         ['dense_8[0][0]']                \n",
            "                                                                                                  \n",
            "==================================================================================================\n",
            "Total params: 20,845,507\n",
            "Trainable params: 679,507\n",
            "Non-trainable params: 20,166,000\n",
            "__________________________________________________________________________________________________\n"
          ]
        }
      ],
      "source": [
        "model = get_model()\n",
        "model.summary()"
      ]
    },
    {
      "cell_type": "code",
      "execution_count": null,
      "metadata": {
        "colab": {
          "base_uri": "https://localhost:8080/"
        },
        "id": "_8gtAi8SSCPG",
        "outputId": "47de339f-e54e-4800-e222-b3f975178ed8",
        "scrolled": true
      },
      "outputs": [
        {
          "name": "stdout",
          "output_type": "stream",
          "text": [
            "Epoch 1/60\n",
            "WARNING:tensorflow:AutoGraph could not transform <function Model.make_train_function.<locals>.train_function at 0x7f0f0c187cb0> and will run it as-is.\n",
            "Please report this to the TensorFlow team. When filing the bug, set the verbosity to 10 (on Linux, `export AUTOGRAPH_VERBOSITY=10`) and attach the full output.\n",
            "Cause: 'arguments' object has no attribute 'posonlyargs'\n",
            "To silence this warning, decorate the function with @tf.autograph.experimental.do_not_convert\n",
            "WARNING: AutoGraph could not transform <function Model.make_train_function.<locals>.train_function at 0x7f0f0c187cb0> and will run it as-is.\n",
            "Please report this to the TensorFlow team. When filing the bug, set the verbosity to 10 (on Linux, `export AUTOGRAPH_VERBOSITY=10`) and attach the full output.\n",
            "Cause: 'arguments' object has no attribute 'posonlyargs'\n",
            "To silence this warning, decorate the function with @tf.autograph.experimental.do_not_convert\n",
            "111836/111841 [============================>.] - ETA: 0s - loss: 0.8895 - accuracy: 0.5873WARNING:tensorflow:AutoGraph could not transform <function Model.make_test_function.<locals>.test_function at 0x7f0e8c0a7d40> and will run it as-is.\n",
            "Please report this to the TensorFlow team. When filing the bug, set the verbosity to 10 (on Linux, `export AUTOGRAPH_VERBOSITY=10`) and attach the full output.\n",
            "Cause: 'arguments' object has no attribute 'posonlyargs'\n",
            "To silence this warning, decorate the function with @tf.autograph.experimental.do_not_convert\n",
            "WARNING: AutoGraph could not transform <function Model.make_test_function.<locals>.test_function at 0x7f0e8c0a7d40> and will run it as-is.\n",
            "Please report this to the TensorFlow team. When filing the bug, set the verbosity to 10 (on Linux, `export AUTOGRAPH_VERBOSITY=10`) and attach the full output.\n",
            "Cause: 'arguments' object has no attribute 'posonlyargs'\n",
            "To silence this warning, decorate the function with @tf.autograph.experimental.do_not_convert\n",
            "111841/111841 [==============================] - 724s 6ms/step - loss: 0.8895 - accuracy: 0.5873 - val_loss: 0.7973 - val_accuracy: 0.6505\n",
            "Epoch 2/60\n",
            "111841/111841 [==============================] - 712s 6ms/step - loss: 0.7292 - accuracy: 0.6873 - val_loss: 0.6209 - val_accuracy: 0.7460\n",
            "Epoch 3/60\n",
            "111841/111841 [==============================] - 697s 6ms/step - loss: 0.6182 - accuracy: 0.7477 - val_loss: 0.5678 - val_accuracy: 0.7725\n",
            "Epoch 4/60\n",
            "111841/111841 [==============================] - 722s 6ms/step - loss: 0.5815 - accuracy: 0.7657 - val_loss: 0.5438 - val_accuracy: 0.7848\n",
            "Epoch 5/60\n",
            "111841/111841 [==============================] - 728s 7ms/step - loss: 0.5609 - accuracy: 0.7757 - val_loss: 0.5271 - val_accuracy: 0.7901\n",
            "Epoch 6/60\n",
            "111841/111841 [==============================] - 733s 7ms/step - loss: 0.5460 - accuracy: 0.7819 - val_loss: 0.5226 - val_accuracy: 0.7942\n",
            "Epoch 7/60\n",
            "111841/111841 [==============================] - 741s 7ms/step - loss: 0.5358 - accuracy: 0.7863 - val_loss: 0.5135 - val_accuracy: 0.7984\n",
            "Epoch 8/60\n",
            "111841/111841 [==============================] - 727s 6ms/step - loss: 0.5256 - accuracy: 0.7906 - val_loss: 0.5146 - val_accuracy: 0.7969\n",
            "Epoch 9/60\n",
            "111841/111841 [==============================] - 704s 6ms/step - loss: 0.5187 - accuracy: 0.7943 - val_loss: 0.5010 - val_accuracy: 0.8035\n",
            "Epoch 10/60\n",
            "111841/111841 [==============================] - 703s 6ms/step - loss: 0.5120 - accuracy: 0.7971 - val_loss: 0.4943 - val_accuracy: 0.8060\n",
            "Epoch 11/60\n",
            "111841/111841 [==============================] - 709s 6ms/step - loss: 0.5072 - accuracy: 0.7997 - val_loss: 0.4998 - val_accuracy: 0.8032\n",
            "Epoch 12/60\n",
            "111841/111841 [==============================] - 708s 6ms/step - loss: 0.5014 - accuracy: 0.8017 - val_loss: 0.4879 - val_accuracy: 0.8079\n",
            "Epoch 13/60\n",
            "111841/111841 [==============================] - 708s 6ms/step - loss: 0.4965 - accuracy: 0.8044 - val_loss: 0.4854 - val_accuracy: 0.8099\n",
            "Epoch 14/60\n",
            "111841/111841 [==============================] - 706s 6ms/step - loss: 0.4929 - accuracy: 0.8054 - val_loss: 0.4863 - val_accuracy: 0.8091\n",
            "Epoch 15/60\n",
            "111841/111841 [==============================] - 709s 6ms/step - loss: 0.4881 - accuracy: 0.8079 - val_loss: 0.4786 - val_accuracy: 0.8127\n",
            "Epoch 16/60\n",
            "111841/111841 [==============================] - 710s 6ms/step - loss: 0.4844 - accuracy: 0.8097 - val_loss: 0.4804 - val_accuracy: 0.8115\n",
            "Epoch 17/60\n",
            "111841/111841 [==============================] - 707s 6ms/step - loss: 0.4819 - accuracy: 0.8102 - val_loss: 0.4764 - val_accuracy: 0.8140\n",
            "Epoch 18/60\n",
            "111841/111841 [==============================] - 705s 6ms/step - loss: 0.4795 - accuracy: 0.8113 - val_loss: 0.4791 - val_accuracy: 0.8124\n",
            "Epoch 19/60\n",
            "111841/111841 [==============================] - 709s 6ms/step - loss: 0.4753 - accuracy: 0.8135 - val_loss: 0.4720 - val_accuracy: 0.8151\n",
            "Epoch 20/60\n",
            "111841/111841 [==============================] - 707s 6ms/step - loss: 0.4732 - accuracy: 0.8142 - val_loss: 0.4776 - val_accuracy: 0.8124\n",
            "Epoch 21/60\n",
            "111841/111841 [==============================] - 710s 6ms/step - loss: 0.4707 - accuracy: 0.8158 - val_loss: 0.4729 - val_accuracy: 0.8152\n",
            "Epoch 22/60\n",
            "111841/111841 [==============================] - 729s 7ms/step - loss: 0.4684 - accuracy: 0.8162 - val_loss: 0.4717 - val_accuracy: 0.8144\n",
            "Epoch 23/60\n",
            "111841/111841 [==============================] - 747s 7ms/step - loss: 0.4660 - accuracy: 0.8173 - val_loss: 0.4639 - val_accuracy: 0.8184\n",
            "Epoch 24/60\n",
            "111841/111841 [==============================] - 746s 7ms/step - loss: 0.4638 - accuracy: 0.8184 - val_loss: 0.4710 - val_accuracy: 0.8159\n",
            "Epoch 25/60\n",
            "111841/111841 [==============================] - 731s 7ms/step - loss: 0.4618 - accuracy: 0.8195 - val_loss: 0.4659 - val_accuracy: 0.8186\n",
            "Epoch 26/60\n",
            "111841/111841 [==============================] - 710s 6ms/step - loss: 0.4605 - accuracy: 0.8200 - val_loss: 0.4690 - val_accuracy: 0.8167\n",
            "Epoch 27/60\n",
            "111841/111841 [==============================] - 713s 6ms/step - loss: 0.4581 - accuracy: 0.8216 - val_loss: 0.4638 - val_accuracy: 0.8191\n",
            "Epoch 28/60\n",
            "111841/111841 [==============================] - 696s 6ms/step - loss: 0.4565 - accuracy: 0.8214 - val_loss: 0.4669 - val_accuracy: 0.8185\n",
            "Epoch 29/60\n",
            "111841/111841 [==============================] - 697s 6ms/step - loss: 0.4539 - accuracy: 0.8224 - val_loss: 0.4643 - val_accuracy: 0.8194\n",
            "Epoch 30/60\n",
            "111841/111841 [==============================] - 696s 6ms/step - loss: 0.4532 - accuracy: 0.8231 - val_loss: 0.4639 - val_accuracy: 0.8183\n",
            "Epoch 31/60\n",
            "111841/111841 [==============================] - 697s 6ms/step - loss: 0.4525 - accuracy: 0.8227 - val_loss: 0.4660 - val_accuracy: 0.8192\n",
            "Epoch 32/60\n",
            "111841/111841 [==============================] - 697s 6ms/step - loss: 0.4500 - accuracy: 0.8248 - val_loss: 0.4601 - val_accuracy: 0.8217\n",
            "Epoch 33/60\n",
            "111841/111841 [==============================] - 723s 6ms/step - loss: 0.4487 - accuracy: 0.8252 - val_loss: 0.4584 - val_accuracy: 0.8214\n",
            "Epoch 34/60\n",
            "111841/111841 [==============================] - 732s 7ms/step - loss: 0.4471 - accuracy: 0.8259 - val_loss: 0.4640 - val_accuracy: 0.8195\n",
            "Epoch 35/60\n",
            "111841/111841 [==============================] - 698s 6ms/step - loss: 0.4460 - accuracy: 0.8263 - val_loss: 0.4594 - val_accuracy: 0.8218\n",
            "Epoch 36/60\n",
            "111841/111841 [==============================] - 698s 6ms/step - loss: 0.4453 - accuracy: 0.8263 - val_loss: 0.4571 - val_accuracy: 0.8229\n",
            "Epoch 37/60\n",
            "111841/111841 [==============================] - 696s 6ms/step - loss: 0.4438 - accuracy: 0.8274 - val_loss: 0.4616 - val_accuracy: 0.8204\n",
            "Epoch 38/60\n",
            "111841/111841 [==============================] - 696s 6ms/step - loss: 0.4422 - accuracy: 0.8283 - val_loss: 0.4575 - val_accuracy: 0.8225\n",
            "Epoch 39/60\n",
            "111841/111841 [==============================] - 697s 6ms/step - loss: 0.4401 - accuracy: 0.8285 - val_loss: 0.4595 - val_accuracy: 0.8222\n",
            "Epoch 40/60\n",
            "111841/111841 [==============================] - 696s 6ms/step - loss: 0.4398 - accuracy: 0.8286 - val_loss: 0.4598 - val_accuracy: 0.8221\n",
            "Epoch 41/60\n",
            "111841/111841 [==============================] - 697s 6ms/step - loss: 0.4393 - accuracy: 0.8289 - val_loss: 0.4572 - val_accuracy: 0.8220\n",
            "Epoch 42/60\n"
          ]
        },
        {
          "name": "stdout",
          "output_type": "stream",
          "text": [
            "111841/111841 [==============================] - 697s 6ms/step - loss: 0.4375 - accuracy: 0.8304 - val_loss: 0.4584 - val_accuracy: 0.8227\n",
            "Epoch 43/60\n",
            "111841/111841 [==============================] - 697s 6ms/step - loss: 0.4370 - accuracy: 0.8296 - val_loss: 0.4556 - val_accuracy: 0.8237\n",
            "Epoch 44/60\n",
            "111841/111841 [==============================] - 696s 6ms/step - loss: 0.4365 - accuracy: 0.8300 - val_loss: 0.4515 - val_accuracy: 0.8251\n",
            "Epoch 45/60\n",
            "111841/111841 [==============================] - 697s 6ms/step - loss: 0.4347 - accuracy: 0.8306 - val_loss: 0.4537 - val_accuracy: 0.8236\n",
            "Epoch 46/60\n",
            "111841/111841 [==============================] - 697s 6ms/step - loss: 0.4336 - accuracy: 0.8314 - val_loss: 0.4514 - val_accuracy: 0.8248\n",
            "Epoch 47/60\n",
            "111841/111841 [==============================] - 698s 6ms/step - loss: 0.4339 - accuracy: 0.8316 - val_loss: 0.4538 - val_accuracy: 0.8239\n",
            "Epoch 48/60\n",
            "111841/111841 [==============================] - 697s 6ms/step - loss: 0.4320 - accuracy: 0.8320 - val_loss: 0.4535 - val_accuracy: 0.8237\n",
            "Epoch 49/60\n",
            "111841/111841 [==============================] - 698s 6ms/step - loss: 0.4322 - accuracy: 0.8318 - val_loss: 0.4515 - val_accuracy: 0.8244\n",
            "Epoch 50/60\n",
            "111841/111841 [==============================] - 697s 6ms/step - loss: 0.4292 - accuracy: 0.8338 - val_loss: 0.4531 - val_accuracy: 0.8241\n",
            "Epoch 51/60\n",
            "111841/111841 [==============================] - 698s 6ms/step - loss: 0.4298 - accuracy: 0.8328 - val_loss: 0.4567 - val_accuracy: 0.8225\n"
          ]
        }
      ],
      "source": [
        "# learning_rate_reduction = ReduceLROnPlateau(monitor='val_accuracy', patience=1, \n",
        "#                                             verbose=1, factor=0.1, min_lr=0.0001)\n",
        "early = EarlyStopping(monitor=\"val_accuracy\", mode=\"max\", patience=7, restore_best_weights=True)\n",
        "model_callbacks = [early]\n",
        "\n",
        "model_history = model.fit([preproc_premise, preproc_hypothesis],Y_train,\n",
        "                                  batch_size=4, \n",
        "                                  epochs=60,\n",
        "                                  validation_split = 0.2,\n",
        "                                  callbacks = model_callbacks)"
      ]
    },
    {
      "cell_type": "code",
      "execution_count": null,
      "metadata": {
        "id": "adTQEJmNeVOz"
      },
      "outputs": [],
      "source": [
        "model.save(\"models/Attention_model.h5\")"
      ]
    },
    {
      "cell_type": "code",
      "execution_count": null,
      "metadata": {
        "id": "uGP4tiapk72j",
        "outputId": "bcd79c0c-20f8-4b33-de01-f78aef2f3f43"
      },
      "outputs": [
        {
          "name": "stdout",
          "output_type": "stream",
          "text": [
            "WARNING:tensorflow:AutoGraph could not transform <function Model.make_predict_function.<locals>.predict_function at 0x7f0e7ff83290> and will run it as-is.\n",
            "Please report this to the TensorFlow team. When filing the bug, set the verbosity to 10 (on Linux, `export AUTOGRAPH_VERBOSITY=10`) and attach the full output.\n",
            "Cause: 'arguments' object has no attribute 'posonlyargs'\n",
            "To silence this warning, decorate the function with @tf.autograph.experimental.do_not_convert\n",
            "WARNING: AutoGraph could not transform <function Model.make_predict_function.<locals>.predict_function at 0x7f0e7ff83290> and will run it as-is.\n",
            "Please report this to the TensorFlow team. When filing the bug, set the verbosity to 10 (on Linux, `export AUTOGRAPH_VERBOSITY=10`) and attach the full output.\n",
            "Cause: 'arguments' object has no attribute 'posonlyargs'\n",
            "To silence this warning, decorate the function with @tf.autograph.experimental.do_not_convert\n",
            "Accuracy on test set is: %83.80496742671009\n",
            "CPU times: user 9.72 s, sys: 287 ms, total: 10 s\n",
            "Wall time: 1.99 s\n"
          ]
        }
      ],
      "source": [
        "%%time\n",
        "import numpy as np\n",
        "test_pred = model.predict([preproc_premise_T, preproc_hypothesis_T], batch_size=128)\n",
        "i = 0\n",
        "for x,y in zip(np.argmax(test_pred, axis=1), np.argmax(Y_test, axis=1)):\n",
        "    if x == y:\n",
        "        i += 1\n",
        "test_acc = i/Y_test.shape[0] * 100\n",
        "print(\"Accuracy on test set is: %\"+str(test_acc))"
      ]
    },
    {
      "cell_type": "code",
      "execution_count": null,
      "metadata": {
        "id": "NzrSsiNOk0jk"
      },
      "outputs": [],
      "source": [
        "import matplotlib.pyplot as plt\n",
        "def eval_metric(model, history, metric_name,model_nam):\n",
        "\n",
        "    metric = history.history[metric_name]\n",
        "    val_metric = history.history['val_' + metric_name]\n",
        "    e = range(1, NB_START_EPOCHS + 1)\n",
        "    plt.plot(e, metric, 'bo', label='Train ' + metric_name)\n",
        "    plt.plot(e, val_metric, 'b', label='Validation ' + metric_name)\n",
        "    plt.xlabel('Epoch number')\n",
        "    plt.ylabel(metric_name)\n",
        "    plt.title('Comparing training and validation ' + metric_name+' ' +model_nam)\n",
        "    plt.legend()\n",
        "    plt.show()\n",
        "\n",
        "def optimal_epoch(model_hist):\n",
        "    min_epoch = np.argmin(model_hist.history['val_loss']) + 1\n",
        "    print(\"Minimum validation loss reached in epoch {}\".format(min_epoch))\n",
        "    return min_epoch     "
      ]
    },
    {
      "cell_type": "code",
      "execution_count": null,
      "metadata": {
        "id": "rbCkQqnek3sX",
        "outputId": "1a556a30-6352-41d9-acf1-6b1f353594ef"
      },
      "outputs": [
        {
          "name": "stdout",
          "output_type": "stream",
          "text": [
            "Minimum validation loss reached in epoch 46\n"
          ]
        },
        {
          "data": {
            "image/png": "[encoded data removed]",
            "text/plain": [
              "<Figure size 432x288 with 1 Axes>"
            ]
          },
          "metadata": {
            "needs_background": "light"
          },
          "output_type": "display_data"
        }
      ],
      "source": [
        "NB_START_EPOCHS = 51\n",
        "reduced_min = optimal_epoch(model_history)\n",
        "eval_metric(model, model_history, 'accuracy', 'Attention_model')"
      ]
    },
    {
      "cell_type": "code",
      "execution_count": null,
      "metadata": {
        "id": "4_yU8q7Ql7jZ",
        "outputId": "593674a8-c11c-4a8f-fae2-4b4b9faf4d44"
      },
      "outputs": [
        {
          "name": "stdout",
          "output_type": "stream",
          "text": [
            "Minimum validation loss reached in epoch 46\n"
          ]
        },
        {
          "data": {
            "image/png": "[encoded data removed]",
            "text/plain": [
              "<Figure size 432x288 with 1 Axes>"
            ]
          },
          "metadata": {
            "needs_background": "light"
          },
          "output_type": "display_data"
        }
      ],
      "source": [
        "NB_START_EPOCHS = 51\n",
        "reduced_min = optimal_epoch(model_history)\n",
        "eval_metric(model, model_history, 'loss', 'Attention_model')"
      ]
    },
    {
      "cell_type": "code",
      "execution_count": null,
      "metadata": {
        "id": "_xDqyr3yrRFT"
      },
      "outputs": [],
      "source": [
        ""
      ]
    }
  ],
  "metadata": {
    "colab": {
      "collapsed_sections": [],
      "name": "Decomposable Attention Model.ipynb",
      "provenance": []
    },
    "kernelspec": {
      "display_name": "Python 3",
      "language": "python",
      "name": "python3"
    },
    "language_info": {
      "codemirror_mode": {
        "name": "ipython",
        "version": 3
      },
      "file_extension": ".py",
      "mimetype": "text/x-python",
      "name": "python",
      "nbconvert_exporter": "python",
      "pygments_lexer": "ipython3",
      "version": "3.7.4"
    }
  },
  "nbformat": 4,
  "nbformat_minor": 0
}